{
 "cells": [
  {
   "cell_type": "code",
   "execution_count": 1,
   "metadata": {},
   "outputs": [
    {
     "name": "stderr",
     "output_type": "stream",
     "text": [
      "/Users/hanboli/Develop/pytorch/lib/python3.6/site-packages/h5py/__init__.py:36: FutureWarning: Conversion of the second argument of issubdtype from `float` to `np.floating` is deprecated. In future, it will be treated as `np.float64 == np.dtype(float).type`.\n",
      "  from ._conv import register_converters as _register_converters\n",
      "/Users/hanboli/Develop/pytorch/lib/python3.6/site-packages/ipykernel_launcher.py:37: UserWarning: \n",
      "This call to matplotlib.use() has no effect because the backend has already\n",
      "been chosen; matplotlib.use() must be called *before* pylab, matplotlib.pyplot,\n",
      "or matplotlib.backends is imported for the first time.\n",
      "\n",
      "The backend was *originally* set to 'module://ipykernel.pylab.backend_inline' by the following code:\n",
      "  File \"/usr/local/Cellar/python3/3.6.4_2/Frameworks/Python.framework/Versions/3.6/lib/python3.6/runpy.py\", line 193, in _run_module_as_main\n",
      "    \"__main__\", mod_spec)\n",
      "  File \"/usr/local/Cellar/python3/3.6.4_2/Frameworks/Python.framework/Versions/3.6/lib/python3.6/runpy.py\", line 85, in _run_code\n",
      "    exec(code, run_globals)\n",
      "  File \"/Users/hanboli/Develop/pytorch/lib/python3.6/site-packages/ipykernel_launcher.py\", line 16, in <module>\n",
      "    app.launch_new_instance()\n",
      "  File \"/Users/hanboli/Develop/pytorch/lib/python3.6/site-packages/traitlets/config/application.py\", line 658, in launch_instance\n",
      "    app.start()\n",
      "  File \"/Users/hanboli/Develop/pytorch/lib/python3.6/site-packages/ipykernel/kernelapp.py\", line 478, in start\n",
      "    self.io_loop.start()\n",
      "  File \"/Users/hanboli/Develop/pytorch/lib/python3.6/site-packages/zmq/eventloop/ioloop.py\", line 177, in start\n",
      "    super(ZMQIOLoop, self).start()\n",
      "  File \"/Users/hanboli/Develop/pytorch/lib/python3.6/site-packages/tornado/ioloop.py\", line 888, in start\n",
      "    handler_func(fd_obj, events)\n",
      "  File \"/Users/hanboli/Develop/pytorch/lib/python3.6/site-packages/tornado/stack_context.py\", line 277, in null_wrapper\n",
      "    return fn(*args, **kwargs)\n",
      "  File \"/Users/hanboli/Develop/pytorch/lib/python3.6/site-packages/zmq/eventloop/zmqstream.py\", line 440, in _handle_events\n",
      "    self._handle_recv()\n",
      "  File \"/Users/hanboli/Develop/pytorch/lib/python3.6/site-packages/zmq/eventloop/zmqstream.py\", line 472, in _handle_recv\n",
      "    self._run_callback(callback, msg)\n",
      "  File \"/Users/hanboli/Develop/pytorch/lib/python3.6/site-packages/zmq/eventloop/zmqstream.py\", line 414, in _run_callback\n",
      "    callback(*args, **kwargs)\n",
      "  File \"/Users/hanboli/Develop/pytorch/lib/python3.6/site-packages/tornado/stack_context.py\", line 277, in null_wrapper\n",
      "    return fn(*args, **kwargs)\n",
      "  File \"/Users/hanboli/Develop/pytorch/lib/python3.6/site-packages/ipykernel/kernelbase.py\", line 283, in dispatcher\n",
      "    return self.dispatch_shell(stream, msg)\n",
      "  File \"/Users/hanboli/Develop/pytorch/lib/python3.6/site-packages/ipykernel/kernelbase.py\", line 233, in dispatch_shell\n",
      "    handler(stream, idents, msg)\n",
      "  File \"/Users/hanboli/Develop/pytorch/lib/python3.6/site-packages/ipykernel/kernelbase.py\", line 399, in execute_request\n",
      "    user_expressions, allow_stdin)\n",
      "  File \"/Users/hanboli/Develop/pytorch/lib/python3.6/site-packages/ipykernel/ipkernel.py\", line 208, in do_execute\n",
      "    res = shell.run_cell(code, store_history=store_history, silent=silent)\n",
      "  File \"/Users/hanboli/Develop/pytorch/lib/python3.6/site-packages/ipykernel/zmqshell.py\", line 537, in run_cell\n",
      "    return super(ZMQInteractiveShell, self).run_cell(*args, **kwargs)\n",
      "  File \"/Users/hanboli/Develop/pytorch/lib/python3.6/site-packages/IPython/core/interactiveshell.py\", line 2728, in run_cell\n",
      "    interactivity=interactivity, compiler=compiler, result=result)\n",
      "  File \"/Users/hanboli/Develop/pytorch/lib/python3.6/site-packages/IPython/core/interactiveshell.py\", line 2850, in run_ast_nodes\n",
      "    if self.run_code(code, result):\n",
      "  File \"/Users/hanboli/Develop/pytorch/lib/python3.6/site-packages/IPython/core/interactiveshell.py\", line 2910, in run_code\n",
      "    exec(code_obj, self.user_global_ns, self.user_ns)\n",
      "  File \"<ipython-input-1-1feab284bf7b>\", line 29, in <module>\n",
      "    import matplotlib.pyplot as plt\n",
      "  File \"/Users/hanboli/Develop/pytorch/lib/python3.6/site-packages/matplotlib/pyplot.py\", line 72, in <module>\n",
      "    from matplotlib.backends import pylab_setup\n",
      "  File \"/Users/hanboli/Develop/pytorch/lib/python3.6/site-packages/matplotlib/backends/__init__.py\", line 14, in <module>\n",
      "    line for line in traceback.format_stack()\n",
      "\n",
      "\n"
     ]
    }
   ],
   "source": [
    "from __future__ import (division, print_function, )\n",
    "from collections import OrderedDict\n",
    "from scipy.stats import multivariate_normal\n",
    "\n",
    "import numpy as np\n",
    "import numpy.random as npr\n",
    "\n",
    "from fuel import config\n",
    "from fuel.datasets import H5PYDataset, IndexableDataset\n",
    "from fuel.transformers.defaults import uint8_pixels_to_floatX\n",
    "from fuel.utils import find_in_data_path\n",
    "import numpy as np\n",
    "import itertools\n",
    "from fuel.streams import DataStream\n",
    "from fuel.schemes import ShuffledScheme\n",
    "import numpy.random as npr\n",
    "import torch\n",
    "import torch.nn as nn\n",
    "import torch.autograd as autograd\n",
    "import torch.optim as optim\n",
    "import torchvision\n",
    "import torchvision.datasets as dsets\n",
    "import torchvision.transforms as transforms\n",
    "from torch.autograd import Variable\n",
    "import torch.nn.functional as F\n",
    "import numpy as np\n",
    "import scipy.misc\n",
    "import imageio\n",
    "import matplotlib.pyplot as plt\n",
    "import matplotlib.gridspec as gridspec\n",
    "import os, time\n",
    "from itertools import *\n",
    "from torch.utils.data import Dataset\n",
    "from fuel import config\n",
    "from fuel.datasets import H5PYDataset, IndexableDataset\n",
    "import matplotlib\n",
    "matplotlib.use('agg')\n",
    "import matplotlib.pyplot as plt\n",
    "plt.switch_backend('agg')\n",
    "import Gaussian_Sample as GS\n",
    "\n",
    "\n",
    "class Gaussian_Data(Dataset):\n",
    "    def __init__(self, dataset):\n",
    "        self.x = torch.from_numpy(np.array(dataset['features'])).type(torch.FloatTensor)\n",
    "        self.y = torch.from_numpy(np.array(dataset['label']))\n",
    "\n",
    "    def __len__(self):\n",
    "        return len(self.x)\n",
    "\n",
    "    def __getitem__(self, idx):\n",
    "        return self.x[idx], self.y[idx]\n",
    "\n",
    "\n",
    "\n",
    "train_data, valid_data = GS.main()\n",
    "train_dataset = Gaussian_Data(train_data)\n",
    "valid_dataset = Gaussian_Data(valid_data)"
   ]
  },
  {
   "cell_type": "code",
   "execution_count": 47,
   "metadata": {},
   "outputs": [],
   "source": [
    "# Data Loader (Input Pipeline)\n",
    "train_loader = torch.utils.data.DataLoader(dataset=train_dataset,\n",
    "                                           batch_size=32,\n",
    "                                           shuffle=True)\n",
    "valid_loader = torch.utils.data.DataLoader(dataset=valid_dataset,\n",
    "                                           batch_size=32,\n",
    "                                           shuffle=True)"
   ]
  },
  {
   "cell_type": "code",
   "execution_count": 20,
   "metadata": {},
   "outputs": [
    {
     "data": {
      "text/plain": [
       "<torch.utils.data.dataloader.DataLoader at 0x1095daf28>"
      ]
     },
     "execution_count": 20,
     "metadata": {},
     "output_type": "execute_result"
    }
   ],
   "source": [
    "train_loader"
   ]
  },
  {
   "cell_type": "code",
   "execution_count": 48,
   "metadata": {},
   "outputs": [],
   "source": [
    "for iter, (X, _) in enumerate(train_loader):\n",
    "    X.shape\n",
    "    break"
   ]
  },
  {
   "cell_type": "code",
   "execution_count": 33,
   "metadata": {},
   "outputs": [
    {
     "data": {
      "text/plain": [
       "4"
      ]
     },
     "execution_count": 33,
     "metadata": {},
     "output_type": "execute_result"
    }
   ],
   "source": [
    "X.size(0)"
   ]
  },
  {
   "cell_type": "code",
   "execution_count": 11,
   "metadata": {},
   "outputs": [],
   "source": [
    "original = []"
   ]
  },
  {
   "cell_type": "code",
   "execution_count": 14,
   "metadata": {},
   "outputs": [],
   "source": [
    "X = np.array([1,2,3])"
   ]
  },
  {
   "cell_type": "code",
   "execution_count": 17,
   "metadata": {},
   "outputs": [],
   "source": [
    "original += [x for x in X]"
   ]
  },
  {
   "cell_type": "code",
   "execution_count": 18,
   "metadata": {},
   "outputs": [
    {
     "data": {
      "text/plain": [
       "[1, 2, 3, 1, 2, 3]"
      ]
     },
     "execution_count": 18,
     "metadata": {},
     "output_type": "execute_result"
    }
   ],
   "source": [
    "original"
   ]
  },
  {
   "cell_type": "code",
   "execution_count": 23,
   "metadata": {},
   "outputs": [],
   "source": [
    "import matplotlib.pyplot as plt"
   ]
  },
  {
   "cell_type": "code",
   "execution_count": 25,
   "metadata": {},
   "outputs": [],
   "source": [
    "cmap = plt.get_cmap('gnuplot')\n",
    "cmap = plt.cm.jet\n",
    "cmaplist = [cmap(i) for i in range(cmap.N)]\n",
    "cmap = cmap.from_list('Custom cmap', cmaplist, cmap.N)"
   ]
  },
  {
   "cell_type": "code",
   "execution_count": 28,
   "metadata": {},
   "outputs": [
    {
     "data": {
      "text/plain": [
       "[(0.0, 0.0, 0.5, 1.0),\n",
       " (0.0, 0.0, 0.517825311942959, 1.0),\n",
       " (0.0, 0.0, 0.535650623885918, 1.0),\n",
       " (0.0, 0.0, 0.553475935828877, 1.0),\n",
       " (0.0, 0.0, 0.571301247771836, 1.0),\n",
       " (0.0, 0.0, 0.589126559714795, 1.0),\n",
       " (0.0, 0.0, 0.606951871657754, 1.0),\n",
       " (0.0, 0.0, 0.624777183600713, 1.0),\n",
       " (0.0, 0.0, 0.642602495543672, 1.0),\n",
       " (0.0, 0.0, 0.660427807486631, 1.0),\n",
       " (0.0, 0.0, 0.67825311942959, 1.0),\n",
       " (0.0, 0.0, 0.696078431372549, 1.0),\n",
       " (0.0, 0.0, 0.713903743315508, 1.0),\n",
       " (0.0, 0.0, 0.731729055258467, 1.0),\n",
       " (0.0, 0.0, 0.749554367201426, 1.0),\n",
       " (0.0, 0.0, 0.767379679144385, 1.0),\n",
       " (0.0, 0.0, 0.785204991087344, 1.0),\n",
       " (0.0, 0.0, 0.803030303030303, 1.0),\n",
       " (0.0, 0.0, 0.820855614973262, 1.0),\n",
       " (0.0, 0.0, 0.838680926916221, 1.0),\n",
       " (0.0, 0.0, 0.85650623885918, 1.0),\n",
       " (0.0, 0.0, 0.874331550802139, 1.0),\n",
       " (0.0, 0.0, 0.892156862745098, 1.0),\n",
       " (0.0, 0.0, 0.909982174688057, 1.0),\n",
       " (0.0, 0.0, 0.927807486631016, 1.0),\n",
       " (0.0, 0.0, 0.945632798573975, 1.0),\n",
       " (0.0, 0.0, 0.963458110516934, 1.0),\n",
       " (0.0, 0.0, 0.981283422459893, 1.0),\n",
       " (0.0, 0.0, 0.999108734402852, 1.0),\n",
       " (0.0, 0.0, 1.0, 1.0),\n",
       " (0.0, 0.0, 1.0, 1.0),\n",
       " (0.0, 0.0, 1.0, 1.0),\n",
       " (0.0, 0.00196078431372549, 1.0, 1.0),\n",
       " (0.0, 0.0176470588235293, 1.0, 1.0),\n",
       " (0.0, 0.03333333333333333, 1.0, 1.0),\n",
       " (0.0, 0.049019607843137254, 1.0, 1.0),\n",
       " (0.0, 0.06470588235294118, 1.0, 1.0),\n",
       " (0.0, 0.08039215686274499, 1.0, 1.0),\n",
       " (0.0, 0.09607843137254903, 1.0, 1.0),\n",
       " (0.0, 0.11176470588235295, 1.0, 1.0),\n",
       " (0.0, 0.12745098039215685, 1.0, 1.0),\n",
       " (0.0, 0.14313725490196066, 1.0, 1.0),\n",
       " (0.0, 0.1588235294117647, 1.0, 1.0),\n",
       " (0.0, 0.17450980392156862, 1.0, 1.0),\n",
       " (0.0, 0.19019607843137254, 1.0, 1.0),\n",
       " (0.0, 0.20588235294117635, 1.0, 1.0),\n",
       " (0.0, 0.22156862745098038, 1.0, 1.0),\n",
       " (0.0, 0.2372549019607843, 1.0, 1.0),\n",
       " (0.0, 0.2529411764705882, 1.0, 1.0),\n",
       " (0.0, 0.26862745098039204, 1.0, 1.0),\n",
       " (0.0, 0.28431372549019607, 1.0, 1.0),\n",
       " (0.0, 0.3, 1.0, 1.0),\n",
       " (0.0, 0.3156862745098039, 1.0, 1.0),\n",
       " (0.0, 0.3313725490196077, 1.0, 1.0),\n",
       " (0.0, 0.34705882352941175, 1.0, 1.0),\n",
       " (0.0, 0.3627450980392157, 1.0, 1.0),\n",
       " (0.0, 0.3784313725490196, 1.0, 1.0),\n",
       " (0.0, 0.3941176470588234, 1.0, 1.0),\n",
       " (0.0, 0.40980392156862744, 1.0, 1.0),\n",
       " (0.0, 0.42549019607843136, 1.0, 1.0),\n",
       " (0.0, 0.4411764705882353, 1.0, 1.0),\n",
       " (0.0, 0.4568627450980391, 1.0, 1.0),\n",
       " (0.0, 0.4725490196078431, 1.0, 1.0),\n",
       " (0.0, 0.48823529411764705, 1.0, 1.0),\n",
       " (0.0, 0.503921568627451, 1.0, 1.0),\n",
       " (0.0, 0.5196078431372549, 1.0, 1.0),\n",
       " (0.0, 0.5352941176470586, 1.0, 1.0),\n",
       " (0.0, 0.5509803921568628, 1.0, 1.0),\n",
       " (0.0, 0.5666666666666667, 1.0, 1.0),\n",
       " (0.0, 0.5823529411764706, 1.0, 1.0),\n",
       " (0.0, 0.5980392156862745, 1.0, 1.0),\n",
       " (0.0, 0.6137254901960785, 1.0, 1.0),\n",
       " (0.0, 0.6294117647058823, 1.0, 1.0),\n",
       " (0.0, 0.6450980392156863, 1.0, 1.0),\n",
       " (0.0, 0.66078431372549, 1.0, 1.0),\n",
       " (0.0, 0.6764705882352942, 1.0, 1.0),\n",
       " (0.0, 0.692156862745098, 1.0, 1.0),\n",
       " (0.0, 0.707843137254902, 1.0, 1.0),\n",
       " (0.0, 0.7235294117647059, 1.0, 1.0),\n",
       " (0.0, 0.7392156862745098, 1.0, 1.0),\n",
       " (0.0, 0.7549019607843137, 1.0, 1.0),\n",
       " (0.0, 0.7705882352941177, 1.0, 1.0),\n",
       " (0.0, 0.7862745098039213, 1.0, 1.0),\n",
       " (0.0, 0.8019607843137255, 1.0, 1.0),\n",
       " (0.0, 0.8176470588235294, 1.0, 1.0),\n",
       " (0.0, 0.8333333333333334, 1.0, 1.0),\n",
       " (0.0, 0.8490196078431372, 1.0, 1.0),\n",
       " (0.0, 0.8647058823529412, 0.9962049335863378, 1.0),\n",
       " (0.0, 0.8803921568627451, 0.9835547122074637, 1.0),\n",
       " (0.0, 0.8960784313725491, 0.9709044908285895, 1.0),\n",
       " (0.009487666034155417, 0.9117647058823527, 0.9582542694497156, 1.0),\n",
       " (0.022137887413029723, 0.9274509803921569, 0.9456040480708413, 1.0),\n",
       " (0.03478810879190385, 0.9431372549019608, 0.9329538266919671, 1.0),\n",
       " (0.04743833017077798, 0.9588235294117647, 0.920303605313093, 1.0),\n",
       " (0.06008855154965211, 0.9745098039215686, 0.9076533839342189, 1.0),\n",
       " (0.07273877292852624, 0.9901960784313726, 0.8950031625553447, 1.0),\n",
       " (0.08538899430740036, 1.0, 0.8823529411764706, 1.0),\n",
       " (0.0980392156862745, 1.0, 0.8697027197975965, 1.0),\n",
       " (0.11068943706514844, 1.0, 0.8570524984187226, 1.0),\n",
       " (0.12333965844402275, 1.0, 0.8444022770398483, 1.0),\n",
       " (0.13598987982289687, 1.0, 0.8317520556609741, 1.0),\n",
       " (0.148640101201771, 1.0, 0.8191018342820999, 1.0),\n",
       " (0.16129032258064513, 1.0, 0.8064516129032259, 1.0),\n",
       " (0.17394054395951927, 1.0, 0.7938013915243517, 1.0),\n",
       " (0.1865907653383934, 1.0, 0.7811511701454776, 1.0),\n",
       " (0.19924098671726753, 1.0, 0.7685009487666035, 1.0),\n",
       " (0.21189120809614148, 1.0, 0.7558507273877295, 1.0),\n",
       " (0.2245414294750158, 1.0, 0.7432005060088551, 1.0),\n",
       " (0.2371916508538899, 1.0, 0.7305502846299811, 1.0),\n",
       " (0.24984187223276405, 1.0, 0.717900063251107, 1.0),\n",
       " (0.26249209361163817, 1.0, 0.7052498418722328, 1.0),\n",
       " (0.2751423149905123, 1.0, 0.6925996204933587, 1.0),\n",
       " (0.2877925363693864, 1.0, 0.6799493991144845, 1.0),\n",
       " (0.30044275774826057, 1.0, 0.6672991777356103, 1.0),\n",
       " (0.3130929791271345, 1.0, 0.6546489563567364, 1.0),\n",
       " (0.3257432005060088, 1.0, 0.6419987349778622, 1.0),\n",
       " (0.3383934218848829, 1.0, 0.629348513598988, 1.0),\n",
       " (0.3510436432637571, 1.0, 0.6166982922201139, 1.0),\n",
       " (0.3636938646426312, 1.0, 0.6040480708412397, 1.0),\n",
       " (0.3763440860215053, 1.0, 0.5913978494623656, 1.0),\n",
       " (0.38899430740037944, 1.0, 0.5787476280834916, 1.0),\n",
       " (0.4016445287792536, 1.0, 0.5660974067046174, 1.0),\n",
       " (0.4142947501581275, 1.0, 0.5534471853257434, 1.0),\n",
       " (0.42694497153700184, 1.0, 0.540796963946869, 1.0),\n",
       " (0.43959519291587595, 1.0, 0.5281467425679949, 1.0),\n",
       " (0.45224541429475007, 1.0, 0.5154965211891208, 1.0),\n",
       " (0.46489563567362424, 1.0, 0.5028462998102468, 1.0),\n",
       " (0.47754585705249836, 1.0, 0.4901960784313726, 1.0),\n",
       " (0.4901960784313725, 1.0, 0.4775458570524984, 1.0),\n",
       " (0.5028462998102466, 1.0, 0.46489563567362435, 1.0),\n",
       " (0.5154965211891207, 1.0, 0.4522454142947502, 1.0),\n",
       " (0.5281467425679949, 1.0, 0.439595192915876, 1.0),\n",
       " (0.5407969639468686, 1.0, 0.4269449715370023, 1.0),\n",
       " (0.5534471853257431, 1.0, 0.4142947501581278, 1.0),\n",
       " (0.5660974067046173, 1.0, 0.4016445287792536, 1.0),\n",
       " (0.5787476280834913, 1.0, 0.38899430740037955, 1.0),\n",
       " (0.5913978494623655, 1.0, 0.3763440860215054, 1.0),\n",
       " (0.6040480708412397, 1.0, 0.3636938646426312, 1.0),\n",
       " (0.6166982922201137, 1.0, 0.35104364326375714, 1.0),\n",
       " (0.6293485135989879, 1.0, 0.338393421884883, 1.0),\n",
       " (0.641998734977862, 1.0, 0.3257432005060089, 1.0),\n",
       " (0.6546489563567361, 1.0, 0.31309297912713474, 1.0),\n",
       " (0.6672991777356103, 1.0, 0.30044275774826057, 1.0),\n",
       " (0.6799493991144844, 1.0, 0.2877925363693865, 1.0),\n",
       " (0.6925996204933585, 1.0, 0.27514231499051234, 1.0),\n",
       " (0.7052498418722326, 1.0, 0.26249209361163817, 1.0),\n",
       " (0.7179000632511068, 1.0, 0.2498418722327641, 1.0),\n",
       " (0.730550284629981, 1.0, 0.23719165085388993, 1.0),\n",
       " (0.7432005060088547, 1.0, 0.2245414294750162, 1.0),\n",
       " (0.7558507273877292, 1.0, 0.2118912080961417, 1.0),\n",
       " (0.7685009487666034, 1.0, 0.19924098671726753, 1.0),\n",
       " (0.7811511701454774, 1.0, 0.18659076533839347, 1.0),\n",
       " (0.7938013915243516, 1.0, 0.1739405439595193, 1.0),\n",
       " (0.8064516129032256, 1.0, 0.16129032258064513, 1.0),\n",
       " (0.8191018342820998, 1.0, 0.14864010120177107, 1.0),\n",
       " (0.831752055660974, 1.0, 0.1359898798228969, 1.0),\n",
       " (0.844402277039848, 1.0, 0.12333965844402273, 1.0),\n",
       " (0.8570524984187222, 1.0, 0.11068943706514867, 1.0),\n",
       " (0.8697027197975963, 1.0, 0.0980392156862745, 1.0),\n",
       " (0.8823529411764705, 1.0, 0.08538899430740043, 1.0),\n",
       " (0.8950031625553446, 1.0, 0.07273877292852626, 1.0),\n",
       " (0.9076533839342187, 1.0, 0.06008855154965209, 1.0),\n",
       " (0.9203036053130929, 1.0, 0.04743833017077803, 1.0),\n",
       " (0.932953826691967, 1.0, 0.03478810879190386, 1.0),\n",
       " (0.9456040480708408, 0.9883805374001459, 0.022137887413030133, 1.0),\n",
       " (0.9582542694497153, 0.973856209150327, 0.009487666034155628, 1.0),\n",
       " (0.9709044908285893, 0.9593318809005086, 0.0, 1.0),\n",
       " (0.9835547122074635, 0.9448075526506902, 0.0, 1.0),\n",
       " (0.9962049335863377, 0.9302832244008717, 0.0, 1.0),\n",
       " (1.0, 0.9157588961510532, 0.0, 1.0),\n",
       " (1.0, 0.9012345679012348, 0.0, 1.0),\n",
       " (1.0, 0.8867102396514164, 0.0, 1.0),\n",
       " (1.0, 0.872185911401598, 0.0, 1.0),\n",
       " (1.0, 0.8576615831517794, 0.0, 1.0),\n",
       " (1.0, 0.843137254901961, 0.0, 1.0),\n",
       " (1.0, 0.8286129266521426, 0.0, 1.0),\n",
       " (1.0, 0.8140885984023241, 0.0, 1.0),\n",
       " (1.0, 0.7995642701525056, 0.0, 1.0),\n",
       " (1.0, 0.7850399419026872, 0.0, 1.0),\n",
       " (1.0, 0.7705156136528688, 0.0, 1.0),\n",
       " (1.0, 0.7559912854030507, 0.0, 1.0),\n",
       " (1.0, 0.741466957153232, 0.0, 1.0),\n",
       " (1.0, 0.7269426289034134, 0.0, 1.0),\n",
       " (1.0, 0.712418300653595, 0.0, 1.0),\n",
       " (1.0, 0.6978939724037765, 0.0, 1.0),\n",
       " (1.0, 0.6833696441539581, 0.0, 1.0),\n",
       " (1.0, 0.6688453159041396, 0.0, 1.0),\n",
       " (1.0, 0.6543209876543212, 0.0, 1.0),\n",
       " (1.0, 0.6397966594045028, 0.0, 1.0),\n",
       " (1.0, 0.6252723311546844, 0.0, 1.0),\n",
       " (1.0, 0.6107480029048659, 0.0, 1.0),\n",
       " (1.0, 0.5962236746550474, 0.0, 1.0),\n",
       " (1.0, 0.5816993464052289, 0.0, 1.0),\n",
       " (1.0, 0.5671750181554105, 0.0, 1.0),\n",
       " (1.0, 0.5526506899055921, 0.0, 1.0),\n",
       " (1.0, 0.5381263616557737, 0.0, 1.0),\n",
       " (1.0, 0.5236020334059556, 0.0, 1.0),\n",
       " (1.0, 0.5090777051561368, 0.0, 1.0),\n",
       " (1.0, 0.4945533769063183, 0.0, 1.0),\n",
       " (1.0, 0.48002904865649987, 0.0, 1.0),\n",
       " (1.0, 0.46550472040668145, 0.0, 1.0),\n",
       " (1.0, 0.4509803921568629, 0.0, 1.0),\n",
       " (1.0, 0.4364560639070445, 0.0, 1.0),\n",
       " (1.0, 0.4219317356572261, 0.0, 1.0),\n",
       " (1.0, 0.40740740740740755, 0.0, 1.0),\n",
       " (1.0, 0.39288307915758913, 0.0, 1.0),\n",
       " (1.0, 0.3783587509077707, 0.0, 1.0),\n",
       " (1.0, 0.3638344226579523, 0.0, 1.0),\n",
       " (1.0, 0.34931009440813376, 0.0, 1.0),\n",
       " (1.0, 0.33478576615831535, 0.0, 1.0),\n",
       " (1.0, 0.3202614379084969, 0.0, 1.0),\n",
       " (1.0, 0.3057371096586785, 0.0, 1.0),\n",
       " (1.0, 0.2912127814088604, 0.0, 1.0),\n",
       " (1.0, 0.27668845315904156, 0.0, 1.0),\n",
       " (1.0, 0.26216412490922314, 0.0, 1.0),\n",
       " (1.0, 0.24763979665940472, 0.0, 1.0),\n",
       " (1.0, 0.2331154684095862, 0.0, 1.0),\n",
       " (1.0, 0.21859114015976777, 0.0, 1.0),\n",
       " (1.0, 0.20406681190994935, 0.0, 1.0),\n",
       " (1.0, 0.18954248366013093, 0.0, 1.0),\n",
       " (1.0, 0.1750181554103124, 0.0, 1.0),\n",
       " (1.0, 0.16049382716049398, 0.0, 1.0),\n",
       " (1.0, 0.14596949891067557, 0.0, 1.0),\n",
       " (1.0, 0.13144517066085715, 0.0, 1.0),\n",
       " (1.0, 0.11692084241103862, 0.0, 1.0),\n",
       " (1.0, 0.1023965141612202, 0.0, 1.0),\n",
       " (1.0, 0.08787218591140178, 0.0, 1.0),\n",
       " (0.9991087344028523, 0.07334785766158336, 0.0, 1.0),\n",
       " (0.9812834224598939, 0.058823529411765274, 0.0, 1.0),\n",
       " (0.9634581105169343, 0.04429920116194641, 0.0, 1.0),\n",
       " (0.9456327985739753, 0.029774872912127992, 0.0, 1.0),\n",
       " (0.9278074866310163, 0.015250544662309573, 0.0, 1.0),\n",
       " (0.9099821746880573, 0.0007262164124910431, 0.0, 1.0),\n",
       " (0.8921568627450983, 0.0, 0.0, 1.0),\n",
       " (0.8743315508021392, 0.0, 0.0, 1.0),\n",
       " (0.8565062388591802, 0.0, 0.0, 1.0),\n",
       " (0.8386809269162212, 0.0, 0.0, 1.0),\n",
       " (0.8208556149732622, 0.0, 0.0, 1.0),\n",
       " (0.8030303030303032, 0.0, 0.0, 1.0),\n",
       " (0.7852049910873442, 0.0, 0.0, 1.0),\n",
       " (0.7673796791443852, 0.0, 0.0, 1.0),\n",
       " (0.7495543672014262, 0.0, 0.0, 1.0),\n",
       " (0.7317290552584672, 0.0, 0.0, 1.0),\n",
       " (0.7139037433155082, 0.0, 0.0, 1.0),\n",
       " (0.6960784313725497, 0.0, 0.0, 1.0),\n",
       " (0.6782531194295901, 0.0, 0.0, 1.0),\n",
       " (0.6604278074866311, 0.0, 0.0, 1.0),\n",
       " (0.6426024955436721, 0.0, 0.0, 1.0),\n",
       " (0.6247771836007131, 0.0, 0.0, 1.0),\n",
       " (0.606951871657754, 0.0, 0.0, 1.0),\n",
       " (0.589126559714795, 0.0, 0.0, 1.0),\n",
       " (0.571301247771836, 0.0, 0.0, 1.0),\n",
       " (0.553475935828877, 0.0, 0.0, 1.0),\n",
       " (0.535650623885918, 0.0, 0.0, 1.0),\n",
       " (0.517825311942959, 0.0, 0.0, 1.0),\n",
       " (0.5, 0.0, 0.0, 1.0)]"
      ]
     },
     "execution_count": 28,
     "metadata": {},
     "output_type": "execute_result"
    }
   ],
   "source": [
    "cmaplist"
   ]
  },
  {
   "cell_type": "code",
   "execution_count": 29,
   "metadata": {},
   "outputs": [
    {
     "data": {
      "text/plain": [
       "256"
      ]
     },
     "execution_count": 29,
     "metadata": {},
     "output_type": "execute_result"
    }
   ],
   "source": [
    "cmap.N"
   ]
  },
  {
   "cell_type": "code",
   "execution_count": 50,
   "metadata": {},
   "outputs": [],
   "source": [
    "X = X.view(4,16)"
   ]
  },
  {
   "cell_type": "code",
   "execution_count": 51,
   "metadata": {},
   "outputs": [
    {
     "data": {
      "text/plain": [
       "\n",
       "\n",
       "Columns 0 to 9 \n",
       " 2.0293 -2.1037 -4.0882 -0.0211 -4.0459 -0.0330  3.9997 -0.0293 -0.0074  0.0376\n",
       " 4.0433 -1.9919 -3.9651  2.0090 -3.9457  1.9900 -3.8860 -3.9198  3.9956  1.9811\n",
       " 2.0078  3.9794  0.0575 -2.0061  1.9294 -2.0552  1.9383  0.0033  3.9034 -2.0180\n",
       "-0.0288 -3.9747 -1.9553  2.0594 -1.9886 -1.9906  1.9835 -1.9838 -3.9820  2.0196\n",
       "\n",
       "Columns 10 to 15 \n",
       "-0.0914  4.0209 -3.9876  1.9789 -0.0486 -4.0145\n",
       " 2.0397 -3.9272 -1.9450  4.1803  2.0324  2.1393\n",
       " 0.0143  4.0645  4.0163 -2.0042 -2.0770 -1.9705\n",
       " 0.0439  3.8964  0.0416  1.9967 -4.0151  3.9869\n",
       "[torch.FloatTensor of size 4x16]"
      ]
     },
     "execution_count": 51,
     "metadata": {},
     "output_type": "execute_result"
    }
   ],
   "source": [
    "X"
   ]
  },
  {
   "cell_type": "code",
   "execution_count": 52,
   "metadata": {},
   "outputs": [
    {
     "data": {
      "text/plain": [
       "\n",
       "(0 ,.,.) = \n",
       "  2.0293 -2.1037 -4.0882 -0.0211\n",
       " -4.0459 -0.0330  3.9997 -0.0293\n",
       " -0.0074  0.0376 -0.0914  4.0209\n",
       " -3.9876  1.9789 -0.0486 -4.0145\n",
       "\n",
       "(1 ,.,.) = \n",
       "  4.0433 -1.9919 -3.9651  2.0090\n",
       " -3.9457  1.9900 -3.8860 -3.9198\n",
       "  3.9956  1.9811  2.0397 -3.9272\n",
       " -1.9450  4.1803  2.0324  2.1393\n",
       "\n",
       "(2 ,.,.) = \n",
       "  2.0078  3.9794  0.0575 -2.0061\n",
       "  1.9294 -2.0552  1.9383  0.0033\n",
       "  3.9034 -2.0180  0.0143  4.0645\n",
       "  4.0163 -2.0042 -2.0770 -1.9705\n",
       "\n",
       "(3 ,.,.) = \n",
       " -0.0288 -3.9747 -1.9553  2.0594\n",
       " -1.9886 -1.9906  1.9835 -1.9838\n",
       " -3.9820  2.0196  0.0439  3.8964\n",
       "  0.0416  1.9967 -4.0151  3.9869\n",
       "[torch.FloatTensor of size 4x4x4]"
      ]
     },
     "execution_count": 52,
     "metadata": {},
     "output_type": "execute_result"
    }
   ],
   "source": [
    "X1 = X.view(-1, 4, 4)\n",
    "X1"
   ]
  },
  {
   "cell_type": "code",
   "execution_count": 53,
   "metadata": {},
   "outputs": [
    {
     "data": {
      "text/plain": [
       "\n",
       " 2.0293  1.9789  3.9997  4.0209\n",
       " 4.0433  4.1803  2.0397  2.1393\n",
       " 4.0163  3.9794  1.9383  4.0645\n",
       " 0.0416  2.0196  1.9835  3.9869\n",
       "[torch.FloatTensor of size 4x4]"
      ]
     },
     "execution_count": 53,
     "metadata": {},
     "output_type": "execute_result"
    }
   ],
   "source": [
    "torch.max(X1, 1)[0]"
   ]
  },
  {
   "cell_type": "code",
   "execution_count": 1,
   "metadata": {},
   "outputs": [],
   "source": [
    "import utils, torch, time, os, pickle\n",
    "import torch.nn as nn\n",
    "import torch.autograd as autograd\n",
    "import torch.optim as optim\n",
    "from torchvision import datasets, transforms\n",
    "from torch.autograd import Variable\n",
    "from torch.utils.data import DataLoader\n",
    "\n",
    "import numpy as np\n",
    "import scipy.misc\n",
    "import imageio\n",
    "import matplotlib.gridspec as gridspec\n",
    "from itertools import *"
   ]
  },
  {
   "cell_type": "code",
   "execution_count": 2,
   "metadata": {},
   "outputs": [
    {
     "name": "stdout",
     "output_type": "stream",
     "text": [
      "Downloading http://ufldl.stanford.edu/housenumbers/train_32x32.mat to data/svhn/train_32x32.mat\n",
      "Downloading http://ufldl.stanford.edu/housenumbers/test_32x32.mat to data/svhn/test_32x32.mat\n"
     ]
    }
   ],
   "source": [
    "dset = datasets.SVHN(root='data/svhn', split='train',\n",
    "                                        download=True, transform=transforms.Compose([transforms.ToTensor()]))\n",
    "valid_dset = datasets.SVHN(root='data/svhn', split='test', download=True,\n",
    "                        transform=transforms.Compose([transforms.ToTensor()]))"
   ]
  },
  {
   "cell_type": "code",
   "execution_count": 5,
   "metadata": {},
   "outputs": [
    {
     "data": {
      "text/plain": [
       "3"
      ]
     },
     "execution_count": 5,
     "metadata": {},
     "output_type": "execute_result"
    }
   ],
   "source": [
    "dset.data.shape[1]"
   ]
  },
  {
   "cell_type": "code",
   "execution_count": 6,
   "metadata": {},
   "outputs": [
    {
     "name": "stderr",
     "output_type": "stream",
     "text": [
      "/Users/hanboli/Develop/pytorch/lib/python3.6/site-packages/torchvision/transforms/transforms.py:156: UserWarning: The use of the transforms.Scale transform is deprecated, please use transforms.Resize instead.\n",
      "  \"please use transforms.Resize instead.\")\n"
     ]
    },
    {
     "name": "stdout",
     "output_type": "stream",
     "text": [
      "Downloading https://www.cs.toronto.edu/~kriz/cifar-10-python.tar.gz to data/mnist/cifar-10-python.tar.gz\n",
      "Files already downloaded and verified\n"
     ]
    }
   ],
   "source": [
    "dset = datasets.CIFAR10(root='data/mnist', train=True,\n",
    "                                        download=True, transform=transforms.Compose([transforms.Scale(64), transforms.ToTensor()]))\n",
    "valid_dset = datasets.CIFAR10(root='data/mnist', train=False, download=True,\n",
    "                        transform=transforms.Compose([transforms.Scale(64), transforms.ToTensor()]))"
   ]
  },
  {
   "cell_type": "code",
   "execution_count": 7,
   "metadata": {},
   "outputs": [
    {
     "data": {
      "text/plain": [
       "(50000, 32, 32, 3)"
      ]
     },
     "execution_count": 7,
     "metadata": {},
     "output_type": "execute_result"
    }
   ],
   "source": [
    "dset.train_data.shape"
   ]
  },
  {
   "cell_type": "code",
   "execution_count": 9,
   "metadata": {},
   "outputs": [
    {
     "data": {
      "text/plain": [
       "1.8378770664093453"
      ]
     },
     "execution_count": 9,
     "metadata": {},
     "output_type": "execute_result"
    }
   ],
   "source": [
    "np.log(2*np.pi)"
   ]
  },
  {
   "cell_type": "code",
   "execution_count": 86,
   "metadata": {},
   "outputs": [],
   "source": [
    "z = Variable(torch.randn(4, 2))\n",
    "x = Variable(torch.zeros(4, 1))"
   ]
  },
  {
   "cell_type": "code",
   "execution_count": 87,
   "metadata": {},
   "outputs": [
    {
     "data": {
      "text/plain": [
       "Variable containing:\n",
       " 1.1263  0.7995\n",
       "-1.6494 -0.2595\n",
       " 0.5563  0.8888\n",
       " 0.8281 -0.4510\n",
       "[torch.FloatTensor of size 4x2]"
      ]
     },
     "execution_count": 87,
     "metadata": {},
     "output_type": "execute_result"
    }
   ],
   "source": [
    "z"
   ]
  },
  {
   "cell_type": "code",
   "execution_count": 88,
   "metadata": {},
   "outputs": [
    {
     "data": {
      "text/plain": [
       "Variable containing:\n",
       " 1.1263  0.7995  0.0000\n",
       "-1.6494 -0.2595  0.0000\n",
       " 0.5563  0.8888  0.0000\n",
       " 0.8281 -0.4510  0.0000\n",
       "[torch.FloatTensor of size 4x3]"
      ]
     },
     "execution_count": 88,
     "metadata": {},
     "output_type": "execute_result"
    }
   ],
   "source": [
    "torch.cat((z,x), 1)"
   ]
  },
  {
   "cell_type": "code",
   "execution_count": 51,
   "metadata": {},
   "outputs": [],
   "source": [
    "from torch.autograd import Variable\n",
    "x = Variable(torch.randn(100, 3, 64, 64))"
   ]
  },
  {
   "cell_type": "code",
   "execution_count": 52,
   "metadata": {},
   "outputs": [],
   "source": [
    "m = nn.Conv2d(3, 128, 4, 2, 1)\n",
    "x = m(x)"
   ]
  },
  {
   "cell_type": "code",
   "execution_count": 53,
   "metadata": {},
   "outputs": [
    {
     "data": {
      "text/plain": [
       "torch.Size([100, 128, 32, 32])"
      ]
     },
     "execution_count": 53,
     "metadata": {},
     "output_type": "execute_result"
    }
   ],
   "source": [
    "x.shape"
   ]
  },
  {
   "cell_type": "code",
   "execution_count": 54,
   "metadata": {},
   "outputs": [],
   "source": [
    "m = nn.Conv2d(128, 128*2, 4, 2, 1)\n",
    "x = m(x)"
   ]
  },
  {
   "cell_type": "code",
   "execution_count": 55,
   "metadata": {},
   "outputs": [
    {
     "data": {
      "text/plain": [
       "torch.Size([100, 256, 16, 16])"
      ]
     },
     "execution_count": 55,
     "metadata": {},
     "output_type": "execute_result"
    }
   ],
   "source": [
    "x.shape"
   ]
  },
  {
   "cell_type": "code",
   "execution_count": 56,
   "metadata": {},
   "outputs": [],
   "source": [
    "m = nn.Conv2d(128*2, 128*4, 4, 2, 1)\n",
    "x = m(x)"
   ]
  },
  {
   "cell_type": "code",
   "execution_count": 57,
   "metadata": {},
   "outputs": [
    {
     "data": {
      "text/plain": [
       "torch.Size([100, 512, 8, 8])"
      ]
     },
     "execution_count": 57,
     "metadata": {},
     "output_type": "execute_result"
    }
   ],
   "source": [
    "x.shape"
   ]
  },
  {
   "cell_type": "code",
   "execution_count": 58,
   "metadata": {},
   "outputs": [],
   "source": [
    "m = nn.Conv2d(128*4, 128*8, 4, 2, 1)\n",
    "x = m(x)"
   ]
  },
  {
   "cell_type": "code",
   "execution_count": 59,
   "metadata": {},
   "outputs": [
    {
     "data": {
      "text/plain": [
       "torch.Size([100, 1024, 4, 4])"
      ]
     },
     "execution_count": 59,
     "metadata": {},
     "output_type": "execute_result"
    }
   ],
   "source": [
    "x.shape"
   ]
  },
  {
   "cell_type": "code",
   "execution_count": 60,
   "metadata": {},
   "outputs": [],
   "source": [
    "m = nn.Conv2d(128*8, 64, 4, 1, 0)\n",
    "x = m(x)"
   ]
  },
  {
   "cell_type": "code",
   "execution_count": 61,
   "metadata": {},
   "outputs": [
    {
     "data": {
      "text/plain": [
       "torch.Size([100, 64, 1, 1])"
      ]
     },
     "execution_count": 61,
     "metadata": {},
     "output_type": "execute_result"
    }
   ],
   "source": [
    "x.shape"
   ]
  },
  {
   "cell_type": "code",
   "execution_count": 62,
   "metadata": {},
   "outputs": [],
   "source": [
    "x = x.squeeze()"
   ]
  },
  {
   "cell_type": "code",
   "execution_count": 63,
   "metadata": {},
   "outputs": [
    {
     "data": {
      "text/plain": [
       "torch.Size([100, 64])"
      ]
     },
     "execution_count": 63,
     "metadata": {},
     "output_type": "execute_result"
    }
   ],
   "source": [
    "x.shape"
   ]
  },
  {
   "cell_type": "code",
   "execution_count": 65,
   "metadata": {},
   "outputs": [
    {
     "name": "stdout",
     "output_type": "stream",
     "text": [
      "Downloading http://ufldl.stanford.edu/housenumbers/train_32x32.mat to data/svhn/train_32x32.mat\n"
     ]
    }
   ],
   "source": [
    "dset = datasets.SVHN(root='data/svhn', split='train',\n",
    "                                    download=True, transform=transforms.Compose([transforms.ToTensor(),\n",
    "                                                                                 transforms.Normalize(mean=(0.5, 0.5, 0.5), std=(0.5, 0.5, 0.5))]))"
   ]
  },
  {
   "cell_type": "code",
   "execution_count": 67,
   "metadata": {},
   "outputs": [
    {
     "name": "stderr",
     "output_type": "stream",
     "text": [
      "/Users/hanboli/Develop/pytorch/lib/python3.6/site-packages/torchvision/transforms/transforms.py:156: UserWarning: The use of the transforms.Scale transform is deprecated, please use transforms.Resize instead.\n",
      "  \"please use transforms.Resize instead.\")\n"
     ]
    },
    {
     "name": "stdout",
     "output_type": "stream",
     "text": [
      "Using downloaded and verified file: data/svhn/train_32x32.mat\n"
     ]
    }
   ],
   "source": [
    "dset = datasets.SVHN(root='data/svhn', split='train',\n",
    "                                    download=True, transform=transforms.Compose([transforms.Scale(64), transforms.ToTensor(),\n",
    "                                                                                 transforms.Normalize(mean=(0.5, 0.5, 0.5), std=(0.5, 0.5, 0.5))]))"
   ]
  },
  {
   "cell_type": "code",
   "execution_count": 69,
   "metadata": {},
   "outputs": [
    {
     "data": {
      "text/plain": [
       "(73257, 3, 32, 32)"
      ]
     },
     "execution_count": 69,
     "metadata": {},
     "output_type": "execute_result"
    }
   ],
   "source": [
    "dset.data.shape"
   ]
  },
  {
   "cell_type": "code",
   "execution_count": 70,
   "metadata": {},
   "outputs": [
    {
     "name": "stderr",
     "output_type": "stream",
     "text": [
      "/Users/hanboli/Develop/pytorch/lib/python3.6/site-packages/torchvision/transforms/transforms.py:156: UserWarning: The use of the transforms.Scale transform is deprecated, please use transforms.Resize instead.\n",
      "  \"please use transforms.Resize instead.\")\n"
     ]
    },
    {
     "name": "stdout",
     "output_type": "stream",
     "text": [
      "Downloading http://ufldl.stanford.edu/housenumbers/test_32x32.mat to data/svhn/test_32x32.mat\n"
     ]
    }
   ],
   "source": [
    "valid_dset = datasets.SVHN(root='data/svhn', split='test', download=True,\n",
    "                                transform=transforms.Compose([transforms.Scale(64), transforms.ToTensor(), transforms.Normalize(mean=(0.5, 0.5, 0.5), std=(0.5, 0.5, 0.5))]))"
   ]
  },
  {
   "cell_type": "code",
   "execution_count": 71,
   "metadata": {},
   "outputs": [
    {
     "data": {
      "text/plain": [
       "(26032, 3, 32, 32)"
      ]
     },
     "execution_count": 71,
     "metadata": {},
     "output_type": "execute_result"
    }
   ],
   "source": [
    "valid_dset.data.shape"
   ]
  },
  {
   "cell_type": "code",
   "execution_count": 73,
   "metadata": {},
   "outputs": [],
   "source": [
    "data_loader = DataLoader(dset, batch_size=32, shuffle=True)"
   ]
  },
  {
   "cell_type": "code",
   "execution_count": 76,
   "metadata": {},
   "outputs": [
    {
     "name": "stdout",
     "output_type": "stream",
     "text": [
      "torch.Size([32, 3, 64, 64])\n"
     ]
    }
   ],
   "source": [
    "for iter, (X, _) in enumerate(data_loader):\n",
    "    print(X.shape)\n",
    "    break"
   ]
  },
  {
   "cell_type": "code",
   "execution_count": 75,
   "metadata": {},
   "outputs": [
    {
     "data": {
      "text/plain": [
       "torch.Size([32, 3, 64, 64])"
      ]
     },
     "execution_count": 75,
     "metadata": {},
     "output_type": "execute_result"
    }
   ],
   "source": [
    "X.shape"
   ]
  },
  {
   "cell_type": "code",
   "execution_count": null,
   "metadata": {},
   "outputs": [],
   "source": []
  },
  {
   "cell_type": "code",
   "execution_count": null,
   "metadata": {},
   "outputs": [],
   "source": []
  },
  {
   "cell_type": "code",
   "execution_count": null,
   "metadata": {},
   "outputs": [],
   "source": []
  },
  {
   "cell_type": "code",
   "execution_count": null,
   "metadata": {},
   "outputs": [],
   "source": []
  },
  {
   "cell_type": "code",
   "execution_count": null,
   "metadata": {},
   "outputs": [],
   "source": []
  },
  {
   "cell_type": "code",
   "execution_count": null,
   "metadata": {},
   "outputs": [],
   "source": []
  },
  {
   "cell_type": "code",
   "execution_count": null,
   "metadata": {},
   "outputs": [],
   "source": []
  },
  {
   "cell_type": "code",
   "execution_count": null,
   "metadata": {},
   "outputs": [],
   "source": []
  },
  {
   "cell_type": "code",
   "execution_count": null,
   "metadata": {},
   "outputs": [],
   "source": []
  },
  {
   "cell_type": "code",
   "execution_count": null,
   "metadata": {},
   "outputs": [],
   "source": []
  },
  {
   "cell_type": "code",
   "execution_count": null,
   "metadata": {},
   "outputs": [],
   "source": []
  },
  {
   "cell_type": "code",
   "execution_count": null,
   "metadata": {},
   "outputs": [],
   "source": []
  },
  {
   "cell_type": "code",
   "execution_count": null,
   "metadata": {},
   "outputs": [],
   "source": []
  },
  {
   "cell_type": "code",
   "execution_count": null,
   "metadata": {},
   "outputs": [],
   "source": []
  },
  {
   "cell_type": "code",
   "execution_count": 95,
   "metadata": {},
   "outputs": [],
   "source": [
    "class Net1(nn.Module):\n",
    "    def __init__(self):\n",
    "        super(Net1, self).__init__()\n",
    "\n",
    "        self.fc = nn.Sequential(\n",
    "            nn.Linear(10, 10, bias=True),\n",
    "            nn.BatchNorm1d(10),\n",
    "            nn.LeakyReLU(0.2),\n",
    "            nn.Linear(10, 10, bias=True),\n",
    "            nn.BatchNorm1d(10),\n",
    "            nn.LeakyReLU(0.2),\n",
    "        )\n",
    "        self.fc_mu = nn.Sequential(\n",
    "            nn.Linear(10, 10, bias=True),\n",
    "        )\n",
    "        self.fc_sigma = nn.Sequential(\n",
    "            nn.Linear(10, 10, bias=True),\n",
    "        )\n",
    "\n",
    "    def forward(self, input):\n",
    "        x= self.fc(input)\n",
    "        mu = self.fc_mu(x)\n",
    "        sigma = self.fc_sigma(x)\n",
    "\n",
    "        return mu,sigma"
   ]
  },
  {
   "cell_type": "code",
   "execution_count": 96,
   "metadata": {},
   "outputs": [],
   "source": [
    "class Net2(nn.Module):\n",
    "    def __init__(self):\n",
    "        super(Net2, self).__init__()\n",
    "\n",
    "        self.fc = nn.Sequential(\n",
    "            nn.Linear(10, 10, bias=True),\n",
    "            nn.BatchNorm1d(10),\n",
    "            nn.LeakyReLU(0.2),\n",
    "        )\n",
    "        self.fc_mu = nn.Sequential(\n",
    "            nn.Linear(10, 10, bias=True),\n",
    "            nn.BatchNorm1d(10),\n",
    "            nn.LeakyReLU(0.2),\n",
    "            nn.Linear(10, 10, bias=True),\n",
    "        )\n",
    "        self.fc_sigma = nn.Sequential(\n",
    "            nn.Linear(10, 10, bias=True),\n",
    "            nn.BatchNorm1d(10),\n",
    "            nn.LeakyReLU(0.2),\n",
    "            nn.Linear(10, 10, bias=True),\n",
    "        )\n",
    "\n",
    "    def forward(self, input):\n",
    "        x= self.fc(input)\n",
    "        mu = self.fc_mu(x)\n",
    "        sigma = self.fc_sigma(x)\n",
    "\n",
    "        return mu,sigma"
   ]
  },
  {
   "cell_type": "code",
   "execution_count": 97,
   "metadata": {},
   "outputs": [],
   "source": [
    "def print_network(net):\n",
    "    num_params = 0\n",
    "    for param in net.parameters():\n",
    "        num_params += param.numel()\n",
    "    print(net)\n",
    "    print('Total number of parameters: %d' % num_params)"
   ]
  },
  {
   "cell_type": "code",
   "execution_count": 98,
   "metadata": {},
   "outputs": [],
   "source": [
    "n1 = Net1()\n",
    "n2 = Net2()"
   ]
  },
  {
   "cell_type": "code",
   "execution_count": 99,
   "metadata": {},
   "outputs": [
    {
     "name": "stdout",
     "output_type": "stream",
     "text": [
      "Net1(\n",
      "  (fc): Sequential(\n",
      "    (0): Linear(in_features=10, out_features=10)\n",
      "    (1): BatchNorm1d(10, eps=1e-05, momentum=0.1, affine=True)\n",
      "    (2): LeakyReLU(0.2)\n",
      "    (3): Linear(in_features=10, out_features=10)\n",
      "    (4): BatchNorm1d(10, eps=1e-05, momentum=0.1, affine=True)\n",
      "    (5): LeakyReLU(0.2)\n",
      "  )\n",
      "  (fc_mu): Sequential(\n",
      "    (0): Linear(in_features=10, out_features=10)\n",
      "  )\n",
      "  (fc_sigma): Sequential(\n",
      "    (0): Linear(in_features=10, out_features=10)\n",
      "  )\n",
      ")\n",
      "Total number of parameters: 480\n"
     ]
    }
   ],
   "source": [
    "print_network(n1)"
   ]
  },
  {
   "cell_type": "code",
   "execution_count": 100,
   "metadata": {},
   "outputs": [
    {
     "name": "stdout",
     "output_type": "stream",
     "text": [
      "Net2(\n",
      "  (fc): Sequential(\n",
      "    (0): Linear(in_features=10, out_features=10)\n",
      "    (1): BatchNorm1d(10, eps=1e-05, momentum=0.1, affine=True)\n",
      "    (2): LeakyReLU(0.2)\n",
      "  )\n",
      "  (fc_mu): Sequential(\n",
      "    (0): Linear(in_features=10, out_features=10)\n",
      "    (1): BatchNorm1d(10, eps=1e-05, momentum=0.1, affine=True)\n",
      "    (2): LeakyReLU(0.2)\n",
      "    (3): Linear(in_features=10, out_features=10)\n",
      "  )\n",
      "  (fc_sigma): Sequential(\n",
      "    (0): Linear(in_features=10, out_features=10)\n",
      "    (1): BatchNorm1d(10, eps=1e-05, momentum=0.1, affine=True)\n",
      "    (2): LeakyReLU(0.2)\n",
      "    (3): Linear(in_features=10, out_features=10)\n",
      "  )\n",
      ")\n",
      "Total number of parameters: 610\n"
     ]
    }
   ],
   "source": [
    "print_network(n2)"
   ]
  },
  {
   "cell_type": "code",
   "execution_count": null,
   "metadata": {},
   "outputs": [],
   "source": []
  }
 ],
 "metadata": {
  "kernelspec": {
   "display_name": "pytorch",
   "language": "python",
   "name": "pytorch"
  },
  "language_info": {
   "codemirror_mode": {
    "name": "ipython",
    "version": 3
   },
   "file_extension": ".py",
   "mimetype": "text/x-python",
   "name": "python",
   "nbconvert_exporter": "python",
   "pygments_lexer": "ipython3",
   "version": "3.6.4"
  }
 },
 "nbformat": 4,
 "nbformat_minor": 2
}
